{
 "cells": [
  {
   "cell_type": "markdown",
   "id": "1db84794",
   "metadata": {},
   "source": [
    "# 1.Class and subclass "
   ]
  },
  {
   "cell_type": "code",
   "execution_count": 2,
   "id": "facfca38",
   "metadata": {},
   "outputs": [
    {
     "name": "stdout",
     "output_type": "stream",
     "text": [
      "\n",
      "4\n",
      "\n",
      "5\n",
      "\n",
      "6\n",
      "AREA of /\\ : 9.921567416492215\n"
     ]
    }
   ],
   "source": [
    "class triangle:\n",
    "    def __init__(self,a,b,c):\n",
    "        self.a = float(a)\n",
    "        self.b = float(b)\n",
    "        self.c = float(c)\n",
    "        self.area = 0\n",
    "\n",
    "        \n",
    "class trifun(triangle):\n",
    "    def __init__(self,a,b,c):\n",
    "        super().__init__(a,b,c)\n",
    "    \n",
    "    def get_area(self):\n",
    "        s = (self.a + self.b + self.c) / 2\n",
    "        self.area = float( (s * (s - self.a) * (s - self.b) * (s - self.c))) ** 0.5\n",
    "        return self.area\n",
    "    \n",
    "    \n",
    "a = input(\"\\n\")\n",
    "b = input(\"\\n\")\n",
    "c = input(\"\\n\")    \n",
    "t = trifun(a,b,c)\n",
    "\n",
    "print(\"AREA of /\\ :\",t.get_area())"
   ]
  },
  {
   "cell_type": "code",
   "execution_count": null,
   "id": "7b7d9964",
   "metadata": {},
   "outputs": [],
   "source": []
  },
  {
   "cell_type": "markdown",
   "id": "e44d8505",
   "metadata": {},
   "source": [
    "# 2.filter_long"
   ]
  },
  {
   "cell_type": "code",
   "execution_count": 28,
   "id": "02d2886e",
   "metadata": {},
   "outputs": [],
   "source": [
    "def filter_long_words(l, n):\n",
    "    lis = []\n",
    "    for w in l:\n",
    "        if len(w) >n:\n",
    "            lis.append(w)\n",
    "    return lis       "
   ]
  },
  {
   "cell_type": "code",
   "execution_count": 35,
   "id": "174be72b",
   "metadata": {},
   "outputs": [
    {
     "name": "stdout",
     "output_type": "stream",
     "text": [
      " 7\n",
      "Longer than n\n"
     ]
    },
    {
     "data": {
      "text/plain": [
       "['bsvxhgachvja']"
      ]
     },
     "execution_count": 35,
     "metadata": {},
     "output_type": "execute_result"
    }
   ],
   "source": [
    "L = ['abcde','a','gdf','ahjvdav','bsvxhgachvja','tyfs']\n",
    "n = int(input(\" \"))\n",
    "print(\"Longer than n\")\n",
    "\n",
    "filter_long_words(L,n)"
   ]
  },
  {
   "cell_type": "markdown",
   "id": "8f35d80c",
   "metadata": {},
   "source": [
    "# 2.1 LenWord"
   ]
  },
  {
   "cell_type": "code",
   "execution_count": 12,
   "id": "ff8692f4",
   "metadata": {},
   "outputs": [],
   "source": [
    "def leng(l):\n",
    "    lm =[]\n",
    "    \n",
    "    for i in l:\n",
    "    \n",
    "        lm.append(len(i))\n",
    "        \n",
    "    return lm"
   ]
  },
  {
   "cell_type": "code",
   "execution_count": 14,
   "id": "fdc2f16b",
   "metadata": {},
   "outputs": [
    {
     "data": {
      "text/plain": [
       "([2, 3, 4], [9, 13])"
      ]
     },
     "execution_count": 14,
     "metadata": {},
     "output_type": "execute_result"
    }
   ],
   "source": [
    "leng(['ab','sfv','dfsg']),leng([\"sjhbahcbj\",'Rushikesh1233'])"
   ]
  },
  {
   "cell_type": "code",
   "execution_count": null,
   "id": "94eefd24",
   "metadata": {},
   "outputs": [],
   "source": []
  },
  {
   "cell_type": "markdown",
   "id": "886f457a",
   "metadata": {},
   "source": [
    "# 2.2 ISVOWEL_OR_NOT"
   ]
  },
  {
   "cell_type": "code",
   "execution_count": 27,
   "id": "9ab435f4",
   "metadata": {},
   "outputs": [],
   "source": [
    "def is_vowel(x):\n",
    "    vow = ['a', 'e', 'i', 'o', 'u']\n",
    "    for i in vow:\n",
    "        if i == x.lower():\n",
    "            return True\n",
    "    else:\n",
    "        return False"
   ]
  },
  {
   "cell_type": "code",
   "execution_count": 36,
   "id": "a06e05ee",
   "metadata": {},
   "outputs": [
    {
     "name": "stdout",
     "output_type": "stream",
     "text": [
      "enter a char\tE\n"
     ]
    },
    {
     "data": {
      "text/plain": [
       "True"
      ]
     },
     "execution_count": 36,
     "metadata": {},
     "output_type": "execute_result"
    }
   ],
   "source": [
    "s = input(\"enter a char\\t\")\n",
    "is_vowel(s)"
   ]
  },
  {
   "cell_type": "code",
   "execution_count": 34,
   "id": "1c87ec7f",
   "metadata": {},
   "outputs": [
    {
     "data": {
      "text/plain": [
       "(True, False, True, False)"
      ]
     },
     "execution_count": 34,
     "metadata": {},
     "output_type": "execute_result"
    }
   ],
   "source": [
    "is_vowel('o'),is_vowel('q'),is_vowel('U'),is_vowel(' ')"
   ]
  },
  {
   "cell_type": "code",
   "execution_count": null,
   "id": "cace54c8",
   "metadata": {},
   "outputs": [],
   "source": []
  }
 ],
 "metadata": {
  "kernelspec": {
   "display_name": "Python 3",
   "language": "python",
   "name": "python3"
  },
  "language_info": {
   "codemirror_mode": {
    "name": "ipython",
    "version": 3
   },
   "file_extension": ".py",
   "mimetype": "text/x-python",
   "name": "python",
   "nbconvert_exporter": "python",
   "pygments_lexer": "ipython3",
   "version": "3.7.10"
  }
 },
 "nbformat": 4,
 "nbformat_minor": 5
}
