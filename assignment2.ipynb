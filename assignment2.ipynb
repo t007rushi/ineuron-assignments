{
 "cells": [
  {
   "cell_type": "markdown",
   "id": "aba88da9",
   "metadata": {},
   "source": [
    "# 1. Pattern creation"
   ]
  },
  {
   "cell_type": "code",
   "execution_count": 61,
   "id": "24e6c4c8",
   "metadata": {},
   "outputs": [
    {
     "name": "stdout",
     "output_type": "stream",
     "text": [
      "* \r\n",
      "* * \r\n",
      "* * * \r\n",
      "* * * * \r\n",
      "* * * * * \r\n",
      "* * * * \r\n",
      "* * * \r\n",
      "* * \r\n",
      "* \r\n"
     ]
    }
   ],
   "source": [
    "for i in range(0,5):\n",
    "    for j in range(0,i+1):\n",
    "        print(\"*\", end = ' ')\n",
    "    print('\\r')\n",
    "    \n",
    "for i in range(4,0,-1):\n",
    "    for j in range(i,0,-1):\n",
    "               print(\"*\", end = ' ')\n",
    "    print('\\r')"
   ]
  },
  {
   "cell_type": "markdown",
   "id": "50409d74",
   "metadata": {},
   "source": [
    "# 2.Reversing a word"
   ]
  },
  {
   "cell_type": "code",
   "execution_count": 57,
   "id": "f1c1c05c",
   "metadata": {},
   "outputs": [
    {
     "name": "stdout",
     "output_type": "stream",
     "text": [
      "enter the word\n",
      "Rushikesh\n",
      "Input Word: Rushikesh\n",
      "Output Reversed: hsekihsuR\n"
     ]
    }
   ],
   "source": [
    "w = input(\"enter the word\\n\")\n",
    "print(\"Input Word: {}\".format(w))\n",
    "print(\"Output Reversed: {}\".format(w[::-1]))"
   ]
  },
  {
   "cell_type": "code",
   "execution_count": 58,
   "id": "99260973",
   "metadata": {},
   "outputs": [
    {
     "name": "stdout",
     "output_type": "stream",
     "text": [
      "Reversed: hsekihsuR\n"
     ]
    }
   ],
   "source": [
    "#optional\n",
    "#print(\"Reversed:\" ,w[::-1])"
   ]
  },
  {
   "cell_type": "code",
   "execution_count": null,
   "id": "00f7c540",
   "metadata": {},
   "outputs": [],
   "source": []
  }
 ],
 "metadata": {
  "kernelspec": {
   "display_name": "Python 3",
   "language": "python",
   "name": "python3"
  },
  "language_info": {
   "codemirror_mode": {
    "name": "ipython",
    "version": 3
   },
   "file_extension": ".py",
   "mimetype": "text/x-python",
   "name": "python",
   "nbconvert_exporter": "python",
   "pygments_lexer": "ipython3",
   "version": "3.7.10"
  }
 },
 "nbformat": 4,
 "nbformat_minor": 5
}
