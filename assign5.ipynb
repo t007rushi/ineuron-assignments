{
 "cells": [
  {
   "cell_type": "markdown",
   "id": "ee68c685",
   "metadata": {},
   "source": [
    "# 5.1 try/except"
   ]
  },
  {
   "cell_type": "code",
   "execution_count": 3,
   "id": "a858303b",
   "metadata": {},
   "outputs": [],
   "source": [
    "def catch_excp():\n",
    "    try:\n",
    "        a = 5/0\n",
    "        print(a)\n",
    "    except Exception as e:\n",
    "        print(\"Error is:\",e)"
   ]
  },
  {
   "cell_type": "code",
   "execution_count": 4,
   "id": "818fa040",
   "metadata": {},
   "outputs": [
    {
     "name": "stdout",
     "output_type": "stream",
     "text": [
      "Error is: division by zero\n"
     ]
    }
   ],
   "source": [
    "catch_excp()"
   ]
  },
  {
   "cell_type": "markdown",
   "id": "9da792a8",
   "metadata": {},
   "source": [
    "# 5.2 "
   ]
  },
  {
   "cell_type": "code",
   "execution_count": 8,
   "id": "304da1b0",
   "metadata": {},
   "outputs": [],
   "source": [
    "subjects = [\"Americans\", \"Indians\"]\n",
    "verbs = [\"play\", \"watch\"]\n",
    "objects = [\"Baseball\", \"Cricket\"]"
   ]
  },
  {
   "cell_type": "code",
   "execution_count": 9,
   "id": "111837e3",
   "metadata": {},
   "outputs": [
    {
     "name": "stdout",
     "output_type": "stream",
     "text": [
      "Americans play Baseball\n",
      "Americans play Cricket\n",
      "Americans watch Baseball\n",
      "Americans watch Cricket\n",
      "Indians play Baseball\n",
      "Indians play Cricket\n",
      "Indians watch Baseball\n",
      "Indians watch Cricket\n"
     ]
    }
   ],
   "source": [
    "for i in subjects:\n",
    "    for j in verbs:\n",
    "        for k in objects:\n",
    "            print(i,j,k)"
   ]
  },
  {
   "cell_type": "code",
   "execution_count": null,
   "id": "5d11b6f0",
   "metadata": {},
   "outputs": [],
   "source": []
  }
 ],
 "metadata": {
  "kernelspec": {
   "display_name": "Python 3",
   "language": "python",
   "name": "python3"
  },
  "language_info": {
   "codemirror_mode": {
    "name": "ipython",
    "version": 3
   },
   "file_extension": ".py",
   "mimetype": "text/x-python",
   "name": "python",
   "nbconvert_exporter": "python",
   "pygments_lexer": "ipython3",
   "version": "3.7.10"
  }
 },
 "nbformat": 4,
 "nbformat_minor": 5
}
